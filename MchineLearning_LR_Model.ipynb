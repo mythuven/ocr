{
 "cells": [
  {
   "cell_type": "markdown",
   "id": "d6a6bb8c",
   "metadata": {},
   "source": []
  },
  {
   "cell_type": "code",
   "execution_count": 2,
   "id": "842ddbea",
   "metadata": {},
   "outputs": [],
   "source": [
    "# importing the all required packages for the task\n",
    "import pandas as pd\n",
    "import numpy as np\n",
    "\n",
    "from sklearn.feature_extraction.text import CountVectorizer\n",
    "from sklearn.model_selection import train_test_split\n",
    "from sklearn.linear_model import LogisticRegression\n",
    "from sklearn.metrics import confusion_matrix, classification_report\n",
    "from sklearn.preprocessing import LabelEncoder\n",
    "\n",
    "import matplotlib.pyplot as plt\n",
    "from sklearn.metrics import confusion_matrix, classification_report"
   ]
  },
  {
   "cell_type": "code",
   "execution_count": 3,
   "id": "af915f57",
   "metadata": {},
   "outputs": [],
   "source": [
    "# loading the data set into jupyter notebbok ( as i am working on linux i have encode/decode problem so i am adding one parameter extra)\n",
    "df = pd.read_csv(\"/home/venkat/Downloads/train_set.csv\", encoding='latin-1')"
   ]
  },
  {
   "cell_type": "code",
   "execution_count": 4,
   "id": "45448233",
   "metadata": {},
   "outputs": [
    {
     "data": {
      "text/html": [
       "<div>\n",
       "<style scoped>\n",
       "    .dataframe tbody tr th:only-of-type {\n",
       "        vertical-align: middle;\n",
       "    }\n",
       "\n",
       "    .dataframe tbody tr th {\n",
       "        vertical-align: top;\n",
       "    }\n",
       "\n",
       "    .dataframe thead th {\n",
       "        text-align: right;\n",
       "    }\n",
       "</style>\n",
       "<table border=\"1\" class=\"dataframe\">\n",
       "  <thead>\n",
       "    <tr style=\"text-align: right;\">\n",
       "      <th></th>\n",
       "      <th>label</th>\n",
       "      <th>text</th>\n",
       "    </tr>\n",
       "  </thead>\n",
       "  <tbody>\n",
       "    <tr>\n",
       "      <th>0</th>\n",
       "      <td>85389000</td>\n",
       "      <td>pdscpm gb part of panel of chiller</td>\n",
       "    </tr>\n",
       "    <tr>\n",
       "      <th>1</th>\n",
       "      <td>85389000</td>\n",
       "      <td>nm  p economical extended rot hand parts for c...</td>\n",
       "    </tr>\n",
       "    <tr>\n",
       "      <th>2</th>\n",
       "      <td>85389000</td>\n",
       "      <td>lv ma pd trip unit for cvs parts of circuit br...</td>\n",
       "    </tr>\n",
       "    <tr>\n",
       "      <th>3</th>\n",
       "      <td>85389000</td>\n",
       "      <td>lv na p trip unit for cvs switch parts of circ...</td>\n",
       "    </tr>\n",
       "    <tr>\n",
       "      <th>4</th>\n",
       "      <td>85389000</td>\n",
       "      <td>lv tmd pd trip unit for cvs parts of circuitbr...</td>\n",
       "    </tr>\n",
       "    <tr>\n",
       "      <th>...</th>\n",
       "      <td>...</td>\n",
       "      <td>...</td>\n",
       "    </tr>\n",
       "    <tr>\n",
       "      <th>23610</th>\n",
       "      <td>84713010</td>\n",
       "      <td>veav hp ids dsc gb iu for ddr  g base nb pchp ...</td>\n",
       "    </tr>\n",
       "    <tr>\n",
       "      <th>23611</th>\n",
       "      <td>84713010</td>\n",
       "      <td>pgv inspiron  portable computernotebook assyb...</td>\n",
       "    </tr>\n",
       "    <tr>\n",
       "      <th>23612</th>\n",
       "      <td>84713010</td>\n",
       "      <td>xfuc acj eguuqnfinnnnnues india rmn hstnnic  n...</td>\n",
       "    </tr>\n",
       "    <tr>\n",
       "      <th>23613</th>\n",
       "      <td>84713010</td>\n",
       "      <td>nwg latitude  portable computernotebook assyb...</td>\n",
       "    </tr>\n",
       "    <tr>\n",
       "      <th>23614</th>\n",
       "      <td>84713010</td>\n",
       "      <td>rpp inspiron  portable computernotebook assyb...</td>\n",
       "    </tr>\n",
       "  </tbody>\n",
       "</table>\n",
       "<p>23615 rows × 2 columns</p>\n",
       "</div>"
      ],
      "text/plain": [
       "          label                                               text\n",
       "0      85389000                 pdscpm gb part of panel of chiller\n",
       "1      85389000  nm  p economical extended rot hand parts for c...\n",
       "2      85389000  lv ma pd trip unit for cvs parts of circuit br...\n",
       "3      85389000  lv na p trip unit for cvs switch parts of circ...\n",
       "4      85389000  lv tmd pd trip unit for cvs parts of circuitbr...\n",
       "...         ...                                                ...\n",
       "23610  84713010  veav hp ids dsc gb iu for ddr  g base nb pchp ...\n",
       "23611  84713010   pgv inspiron  portable computernotebook assyb...\n",
       "23612  84713010  xfuc acj eguuqnfinnnnnues india rmn hstnnic  n...\n",
       "23613  84713010   nwg latitude  portable computernotebook assyb...\n",
       "23614  84713010   rpp inspiron  portable computernotebook assyb...\n",
       "\n",
       "[23615 rows x 2 columns]"
      ]
     },
     "execution_count": 4,
     "metadata": {},
     "output_type": "execute_result"
    }
   ],
   "source": [
    "# looking at into data\n",
    "df"
   ]
  },
  {
   "cell_type": "code",
   "execution_count": 5,
   "id": "054a9e22",
   "metadata": {},
   "outputs": [
    {
     "data": {
      "text/html": [
       "<div>\n",
       "<style scoped>\n",
       "    .dataframe tbody tr th:only-of-type {\n",
       "        vertical-align: middle;\n",
       "    }\n",
       "\n",
       "    .dataframe tbody tr th {\n",
       "        vertical-align: top;\n",
       "    }\n",
       "\n",
       "    .dataframe thead th {\n",
       "        text-align: right;\n",
       "    }\n",
       "</style>\n",
       "<table border=\"1\" class=\"dataframe\">\n",
       "  <thead>\n",
       "    <tr style=\"text-align: right;\">\n",
       "      <th></th>\n",
       "      <th>label</th>\n",
       "      <th>text</th>\n",
       "    </tr>\n",
       "  </thead>\n",
       "  <tbody>\n",
       "    <tr>\n",
       "      <th>0</th>\n",
       "      <td>85389000</td>\n",
       "      <td>pdscpm gb part of panel of chiller</td>\n",
       "    </tr>\n",
       "    <tr>\n",
       "      <th>1</th>\n",
       "      <td>85389000</td>\n",
       "      <td>nm  p economical extended rot hand parts for c...</td>\n",
       "    </tr>\n",
       "    <tr>\n",
       "      <th>2</th>\n",
       "      <td>85389000</td>\n",
       "      <td>lv ma pd trip unit for cvs parts of circuit br...</td>\n",
       "    </tr>\n",
       "    <tr>\n",
       "      <th>3</th>\n",
       "      <td>85389000</td>\n",
       "      <td>lv na p trip unit for cvs switch parts of circ...</td>\n",
       "    </tr>\n",
       "    <tr>\n",
       "      <th>4</th>\n",
       "      <td>85389000</td>\n",
       "      <td>lv tmd pd trip unit for cvs parts of circuitbr...</td>\n",
       "    </tr>\n",
       "  </tbody>\n",
       "</table>\n",
       "</div>"
      ],
      "text/plain": [
       "      label                                               text\n",
       "0  85389000                 pdscpm gb part of panel of chiller\n",
       "1  85389000  nm  p economical extended rot hand parts for c...\n",
       "2  85389000  lv ma pd trip unit for cvs parts of circuit br...\n",
       "3  85389000  lv na p trip unit for cvs switch parts of circ...\n",
       "4  85389000  lv tmd pd trip unit for cvs parts of circuitbr..."
      ]
     },
     "execution_count": 5,
     "metadata": {},
     "output_type": "execute_result"
    }
   ],
   "source": [
    "# looking at into top 5 data points from data set\n",
    "df.head()"
   ]
  },
  {
   "cell_type": "code",
   "execution_count": 6,
   "id": "2d25437c",
   "metadata": {},
   "outputs": [
    {
     "data": {
      "text/plain": [
       "pandas.core.frame.DataFrame"
      ]
     },
     "execution_count": 6,
     "metadata": {},
     "output_type": "execute_result"
    }
   ],
   "source": [
    "type(df)"
   ]
  },
  {
   "cell_type": "code",
   "execution_count": 7,
   "id": "4bcc1637",
   "metadata": {},
   "outputs": [
    {
     "data": {
      "text/plain": [
       "(23615, 2)"
      ]
     },
     "execution_count": 7,
     "metadata": {},
     "output_type": "execute_result"
    }
   ],
   "source": [
    "df.shape"
   ]
  },
  {
   "cell_type": "code",
   "execution_count": 8,
   "id": "51d92409",
   "metadata": {},
   "outputs": [
    {
     "data": {
      "text/plain": [
       "array([85389000, 85177090, 85369090, 39269099, 73181500, 85366990,\n",
       "       85364900, 85238090, 87089900, 33041000, 87082900, 84713010])"
      ]
     },
     "execution_count": 8,
     "metadata": {},
     "output_type": "execute_result"
    }
   ],
   "source": [
    "# looking at unique lables/classes \n",
    "df.label.unique()"
   ]
  },
  {
   "cell_type": "code",
   "execution_count": 9,
   "id": "641ed980",
   "metadata": {},
   "outputs": [
    {
     "data": {
      "image/png": "[encoded data removed]",
      "text/plain": [
       "<Figure size 432x288 with 1 Axes>"
      ]
     },
     "metadata": {
      "needs_background": "light"
     },
     "output_type": "display_data"
    }
   ],
   "source": [
    "# looking at into the  data samples for idividual classes\n",
    "classes = df.label.unique()\n",
    "counts = []\n",
    "\n",
    "for i in classes:\n",
    "  count = len(df[df.label==i])\n",
    "  counts.append(count)\n",
    "\n",
    "plt.bar(['0', '1','2','3','4','5','6','7','8','9','10','11'], counts)\n",
    "plt.show()"
   ]
  },
  {
   "cell_type": "markdown",
   "id": "0f802f5d",
   "metadata": {},
   "source": [
    "The data is imbalanced"
   ]
  },
  {
   "cell_type": "code",
   "execution_count": 10,
   "id": "f6216f45",
   "metadata": {},
   "outputs": [],
   "source": [
    "# splliting the data for training and validation/test set\n",
    "\n",
    "x = df.text.values\n",
    "y = df.label.values\n",
    "x_train, x_test, y_train, y_test = train_test_split(x, y, test_size=0.20, random_state=32)"
   ]
  },
  {
   "cell_type": "code",
   "execution_count": 11,
   "id": "40538352",
   "metadata": {},
   "outputs": [
    {
     "data": {
      "text/plain": [
       "(23615,)"
      ]
     },
     "execution_count": 11,
     "metadata": {},
     "output_type": "execute_result"
    }
   ],
   "source": [
    "x.shape"
   ]
  },
  {
   "cell_type": "code",
   "execution_count": 12,
   "id": "aeb6ec03",
   "metadata": {},
   "outputs": [
    {
     "data": {
      "text/plain": [
       "array([85389000, 85369090, 87089900, ..., 39269099, 39269099, 73181500])"
      ]
     },
     "execution_count": 12,
     "metadata": {},
     "output_type": "execute_result"
    }
   ],
   "source": [
    "y_train"
   ]
  },
  {
   "cell_type": "code",
   "execution_count": 13,
   "id": "2d3c67cb",
   "metadata": {},
   "outputs": [],
   "source": [
    "# creating vectorizer and transofrming our train and test data\n",
    "vectorizer = CountVectorizer()\n",
    "vectorizer.fit(x_train)\n",
    "\n",
    "X_train = vectorizer.transform(x_train)\n",
    "X_test = vectorizer.transform(x_test)"
   ]
  },
  {
   "cell_type": "code",
   "execution_count": 14,
   "id": "37c8c469",
   "metadata": {},
   "outputs": [
    {
     "data": {
      "text/plain": [
       "(18892, 12397)"
      ]
     },
     "execution_count": 14,
     "metadata": {},
     "output_type": "execute_result"
    }
   ],
   "source": [
    "X_train.shape"
   ]
  },
  {
   "cell_type": "code",
   "execution_count": 15,
   "id": "03f6be8f",
   "metadata": {},
   "outputs": [
    {
     "data": {
      "text/plain": [
       "(18892,)"
      ]
     },
     "execution_count": 15,
     "metadata": {},
     "output_type": "execute_result"
    }
   ],
   "source": [
    "y_train.shape"
   ]
  },
  {
   "cell_type": "code",
   "execution_count": 16,
   "id": "1f32cbaa",
   "metadata": {},
   "outputs": [
    {
     "name": "stdout",
     "output_type": "stream",
     "text": [
      "bser pmk redundant processor unit \n",
      "   (0, 1361)\t1\n",
      "  (0, 7969)\t1\n",
      "  (0, 8206)\t1\n",
      "  (0, 8744)\t1\n",
      "  (0, 11326)\t1\n"
     ]
    }
   ],
   "source": [
    "print(x_train[0], '\\n', X_train[0])"
   ]
  },
  {
   "cell_type": "code",
   "execution_count": 17,
   "id": "9c384bae",
   "metadata": {},
   "outputs": [
    {
     "name": "stdout",
     "output_type": "stream",
     "text": [
      "bser 1361\n",
      "pmk 7969\n",
      "redundant 8744\n",
      "processor 8206\n",
      "unit 11326\n"
     ]
    }
   ],
   "source": [
    "# by appling regular expressions removing unwanted  and getting most used or repeated words\n",
    "import re\n",
    "\n",
    "d = \",.!?/&-:;@'...\"\n",
    "\"[\"+\"\\\\\".join(d)+\"]\"\n",
    "\n",
    "# clean up the string\n",
    "s = x_train[0]\n",
    "s = ' '.join(w for w in re.split(\"[\"+\"\\\\\".join(d)+\"]\", s) if w)\n",
    "\n",
    "for i in s.split():\n",
    "  if len(i)>1: print(i, vectorizer.vocabulary_[i.lower()])"
   ]
  },
  {
   "cell_type": "code",
   "execution_count": 18,
   "id": "e882ed61",
   "metadata": {},
   "outputs": [
    {
     "name": "stdout",
     "output_type": "stream",
     "text": [
      "Accuracy: 0.9432564048274402\n"
     ]
    }
   ],
   "source": [
    "# creating model with n of iterations and fitting the model against our data set\n",
    "classifier = LogisticRegression(max_iter=1000)\n",
    "classifier.fit(X_train, y_train)\n",
    "\n",
    "score = classifier.score(X_test, y_test)\n",
    "\n",
    "print(\"Accuracy:\", score)"
   ]
  },
  {
   "cell_type": "code",
   "execution_count": 19,
   "id": "cd4b4a05",
   "metadata": {},
   "outputs": [
    {
     "data": {
      "text/html": [
       "<div>\n",
       "<style scoped>\n",
       "    .dataframe tbody tr th:only-of-type {\n",
       "        vertical-align: middle;\n",
       "    }\n",
       "\n",
       "    .dataframe tbody tr th {\n",
       "        vertical-align: top;\n",
       "    }\n",
       "\n",
       "    .dataframe thead th {\n",
       "        text-align: right;\n",
       "    }\n",
       "</style>\n",
       "<table border=\"1\" class=\"dataframe\">\n",
       "  <thead>\n",
       "    <tr style=\"text-align: right;\">\n",
       "      <th></th>\n",
       "      <th>85389000</th>\n",
       "      <th>85177090</th>\n",
       "      <th>85369090</th>\n",
       "      <th>39269099</th>\n",
       "      <th>73181500</th>\n",
       "      <th>85366990</th>\n",
       "      <th>85364900</th>\n",
       "      <th>85238090</th>\n",
       "      <th>87089900</th>\n",
       "      <th>33041000</th>\n",
       "      <th>87082900</th>\n",
       "      <th>84713010</th>\n",
       "    </tr>\n",
       "  </thead>\n",
       "  <tbody>\n",
       "    <tr>\n",
       "      <th>85389000</th>\n",
       "      <td>582</td>\n",
       "      <td>2</td>\n",
       "      <td>8</td>\n",
       "      <td>15</td>\n",
       "      <td>0</td>\n",
       "      <td>2</td>\n",
       "      <td>0</td>\n",
       "      <td>0</td>\n",
       "      <td>1</td>\n",
       "      <td>0</td>\n",
       "      <td>0</td>\n",
       "      <td>0</td>\n",
       "    </tr>\n",
       "    <tr>\n",
       "      <th>85177090</th>\n",
       "      <td>7</td>\n",
       "      <td>498</td>\n",
       "      <td>0</td>\n",
       "      <td>8</td>\n",
       "      <td>0</td>\n",
       "      <td>0</td>\n",
       "      <td>0</td>\n",
       "      <td>0</td>\n",
       "      <td>1</td>\n",
       "      <td>0</td>\n",
       "      <td>0</td>\n",
       "      <td>0</td>\n",
       "    </tr>\n",
       "    <tr>\n",
       "      <th>85369090</th>\n",
       "      <td>13</td>\n",
       "      <td>3</td>\n",
       "      <td>440</td>\n",
       "      <td>5</td>\n",
       "      <td>0</td>\n",
       "      <td>23</td>\n",
       "      <td>6</td>\n",
       "      <td>0</td>\n",
       "      <td>3</td>\n",
       "      <td>0</td>\n",
       "      <td>0</td>\n",
       "      <td>0</td>\n",
       "    </tr>\n",
       "    <tr>\n",
       "      <th>39269099</th>\n",
       "      <td>14</td>\n",
       "      <td>6</td>\n",
       "      <td>2</td>\n",
       "      <td>405</td>\n",
       "      <td>5</td>\n",
       "      <td>1</td>\n",
       "      <td>0</td>\n",
       "      <td>0</td>\n",
       "      <td>7</td>\n",
       "      <td>1</td>\n",
       "      <td>7</td>\n",
       "      <td>0</td>\n",
       "    </tr>\n",
       "    <tr>\n",
       "      <th>73181500</th>\n",
       "      <td>2</td>\n",
       "      <td>1</td>\n",
       "      <td>0</td>\n",
       "      <td>13</td>\n",
       "      <td>402</td>\n",
       "      <td>0</td>\n",
       "      <td>0</td>\n",
       "      <td>0</td>\n",
       "      <td>6</td>\n",
       "      <td>0</td>\n",
       "      <td>0</td>\n",
       "      <td>0</td>\n",
       "    </tr>\n",
       "    <tr>\n",
       "      <th>85366990</th>\n",
       "      <td>8</td>\n",
       "      <td>0</td>\n",
       "      <td>18</td>\n",
       "      <td>2</td>\n",
       "      <td>1</td>\n",
       "      <td>354</td>\n",
       "      <td>1</td>\n",
       "      <td>0</td>\n",
       "      <td>0</td>\n",
       "      <td>0</td>\n",
       "      <td>0</td>\n",
       "      <td>0</td>\n",
       "    </tr>\n",
       "    <tr>\n",
       "      <th>85364900</th>\n",
       "      <td>3</td>\n",
       "      <td>0</td>\n",
       "      <td>3</td>\n",
       "      <td>0</td>\n",
       "      <td>1</td>\n",
       "      <td>0</td>\n",
       "      <td>326</td>\n",
       "      <td>0</td>\n",
       "      <td>0</td>\n",
       "      <td>0</td>\n",
       "      <td>0</td>\n",
       "      <td>0</td>\n",
       "    </tr>\n",
       "    <tr>\n",
       "      <th>85238090</th>\n",
       "      <td>0</td>\n",
       "      <td>0</td>\n",
       "      <td>1</td>\n",
       "      <td>0</td>\n",
       "      <td>0</td>\n",
       "      <td>0</td>\n",
       "      <td>0</td>\n",
       "      <td>333</td>\n",
       "      <td>0</td>\n",
       "      <td>0</td>\n",
       "      <td>0</td>\n",
       "      <td>0</td>\n",
       "    </tr>\n",
       "    <tr>\n",
       "      <th>87089900</th>\n",
       "      <td>9</td>\n",
       "      <td>0</td>\n",
       "      <td>1</td>\n",
       "      <td>14</td>\n",
       "      <td>2</td>\n",
       "      <td>1</td>\n",
       "      <td>0</td>\n",
       "      <td>0</td>\n",
       "      <td>306</td>\n",
       "      <td>0</td>\n",
       "      <td>8</td>\n",
       "      <td>0</td>\n",
       "    </tr>\n",
       "    <tr>\n",
       "      <th>33041000</th>\n",
       "      <td>0</td>\n",
       "      <td>0</td>\n",
       "      <td>0</td>\n",
       "      <td>0</td>\n",
       "      <td>0</td>\n",
       "      <td>0</td>\n",
       "      <td>0</td>\n",
       "      <td>0</td>\n",
       "      <td>0</td>\n",
       "      <td>296</td>\n",
       "      <td>0</td>\n",
       "      <td>0</td>\n",
       "    </tr>\n",
       "    <tr>\n",
       "      <th>87082900</th>\n",
       "      <td>5</td>\n",
       "      <td>0</td>\n",
       "      <td>0</td>\n",
       "      <td>4</td>\n",
       "      <td>0</td>\n",
       "      <td>0</td>\n",
       "      <td>0</td>\n",
       "      <td>0</td>\n",
       "      <td>21</td>\n",
       "      <td>0</td>\n",
       "      <td>246</td>\n",
       "      <td>0</td>\n",
       "    </tr>\n",
       "    <tr>\n",
       "      <th>84713010</th>\n",
       "      <td>2</td>\n",
       "      <td>0</td>\n",
       "      <td>0</td>\n",
       "      <td>0</td>\n",
       "      <td>0</td>\n",
       "      <td>1</td>\n",
       "      <td>0</td>\n",
       "      <td>0</td>\n",
       "      <td>0</td>\n",
       "      <td>0</td>\n",
       "      <td>0</td>\n",
       "      <td>267</td>\n",
       "    </tr>\n",
       "  </tbody>\n",
       "</table>\n",
       "</div>"
      ],
      "text/plain": [
       "          85389000  85177090  85369090  39269099  73181500  85366990  \\\n",
       "85389000       582         2         8        15         0         2   \n",
       "85177090         7       498         0         8         0         0   \n",
       "85369090        13         3       440         5         0        23   \n",
       "39269099        14         6         2       405         5         1   \n",
       "73181500         2         1         0        13       402         0   \n",
       "85366990         8         0        18         2         1       354   \n",
       "85364900         3         0         3         0         1         0   \n",
       "85238090         0         0         1         0         0         0   \n",
       "87089900         9         0         1        14         2         1   \n",
       "33041000         0         0         0         0         0         0   \n",
       "87082900         5         0         0         4         0         0   \n",
       "84713010         2         0         0         0         0         1   \n",
       "\n",
       "          85364900  85238090  87089900  33041000  87082900  84713010  \n",
       "85389000         0         0         1         0         0         0  \n",
       "85177090         0         0         1         0         0         0  \n",
       "85369090         6         0         3         0         0         0  \n",
       "39269099         0         0         7         1         7         0  \n",
       "73181500         0         0         6         0         0         0  \n",
       "85366990         1         0         0         0         0         0  \n",
       "85364900       326         0         0         0         0         0  \n",
       "85238090         0       333         0         0         0         0  \n",
       "87089900         0         0       306         0         8         0  \n",
       "33041000         0         0         0       296         0         0  \n",
       "87082900         0         0        21         0       246         0  \n",
       "84713010         0         0         0         0         0       267  "
      ]
     },
     "execution_count": 19,
     "metadata": {},
     "output_type": "execute_result"
    }
   ],
   "source": [
    "# printing confusion matrix againist our test set\n",
    "y_pred = classifier.predict(X_test)\n",
    "cm = confusion_matrix(y_test, y_pred, labels=df.label.unique())\n",
    "df_cm = pd.DataFrame(cm, index=df.label.unique(), columns=df.label.unique())\n",
    "df_cm"
   ]
  },
  {
   "cell_type": "code",
   "execution_count": 20,
   "id": "f5ed95ef",
   "metadata": {},
   "outputs": [
    {
     "data": {
      "text/html": [
       "<div>\n",
       "<style scoped>\n",
       "    .dataframe tbody tr th:only-of-type {\n",
       "        vertical-align: middle;\n",
       "    }\n",
       "\n",
       "    .dataframe tbody tr th {\n",
       "        vertical-align: top;\n",
       "    }\n",
       "\n",
       "    .dataframe thead th {\n",
       "        text-align: right;\n",
       "    }\n",
       "</style>\n",
       "<table border=\"1\" class=\"dataframe\">\n",
       "  <thead>\n",
       "    <tr style=\"text-align: right;\">\n",
       "      <th></th>\n",
       "      <th>85389000</th>\n",
       "      <th>85177090</th>\n",
       "      <th>85369090</th>\n",
       "      <th>39269099</th>\n",
       "      <th>73181500</th>\n",
       "      <th>85366990</th>\n",
       "      <th>85364900</th>\n",
       "      <th>85238090</th>\n",
       "      <th>87089900</th>\n",
       "      <th>33041000</th>\n",
       "      <th>87082900</th>\n",
       "      <th>84713010</th>\n",
       "    </tr>\n",
       "  </thead>\n",
       "  <tbody>\n",
       "    <tr>\n",
       "      <th>85389000</th>\n",
       "      <td>0.902326</td>\n",
       "      <td>0.003922</td>\n",
       "      <td>0.016913</td>\n",
       "      <td>0.032189</td>\n",
       "      <td>0.000000</td>\n",
       "      <td>0.005236</td>\n",
       "      <td>0.000000</td>\n",
       "      <td>0.0</td>\n",
       "      <td>0.002899</td>\n",
       "      <td>0.000000</td>\n",
       "      <td>0.000000</td>\n",
       "      <td>0.0</td>\n",
       "    </tr>\n",
       "    <tr>\n",
       "      <th>85177090</th>\n",
       "      <td>0.010853</td>\n",
       "      <td>0.976471</td>\n",
       "      <td>0.000000</td>\n",
       "      <td>0.017167</td>\n",
       "      <td>0.000000</td>\n",
       "      <td>0.000000</td>\n",
       "      <td>0.000000</td>\n",
       "      <td>0.0</td>\n",
       "      <td>0.002899</td>\n",
       "      <td>0.000000</td>\n",
       "      <td>0.000000</td>\n",
       "      <td>0.0</td>\n",
       "    </tr>\n",
       "    <tr>\n",
       "      <th>85369090</th>\n",
       "      <td>0.020155</td>\n",
       "      <td>0.005882</td>\n",
       "      <td>0.930233</td>\n",
       "      <td>0.010730</td>\n",
       "      <td>0.000000</td>\n",
       "      <td>0.060209</td>\n",
       "      <td>0.018018</td>\n",
       "      <td>0.0</td>\n",
       "      <td>0.008696</td>\n",
       "      <td>0.000000</td>\n",
       "      <td>0.000000</td>\n",
       "      <td>0.0</td>\n",
       "    </tr>\n",
       "    <tr>\n",
       "      <th>39269099</th>\n",
       "      <td>0.021705</td>\n",
       "      <td>0.011765</td>\n",
       "      <td>0.004228</td>\n",
       "      <td>0.869099</td>\n",
       "      <td>0.012165</td>\n",
       "      <td>0.002618</td>\n",
       "      <td>0.000000</td>\n",
       "      <td>0.0</td>\n",
       "      <td>0.020290</td>\n",
       "      <td>0.003367</td>\n",
       "      <td>0.026820</td>\n",
       "      <td>0.0</td>\n",
       "    </tr>\n",
       "    <tr>\n",
       "      <th>73181500</th>\n",
       "      <td>0.003101</td>\n",
       "      <td>0.001961</td>\n",
       "      <td>0.000000</td>\n",
       "      <td>0.027897</td>\n",
       "      <td>0.978102</td>\n",
       "      <td>0.000000</td>\n",
       "      <td>0.000000</td>\n",
       "      <td>0.0</td>\n",
       "      <td>0.017391</td>\n",
       "      <td>0.000000</td>\n",
       "      <td>0.000000</td>\n",
       "      <td>0.0</td>\n",
       "    </tr>\n",
       "    <tr>\n",
       "      <th>85366990</th>\n",
       "      <td>0.012403</td>\n",
       "      <td>0.000000</td>\n",
       "      <td>0.038055</td>\n",
       "      <td>0.004292</td>\n",
       "      <td>0.002433</td>\n",
       "      <td>0.926702</td>\n",
       "      <td>0.003003</td>\n",
       "      <td>0.0</td>\n",
       "      <td>0.000000</td>\n",
       "      <td>0.000000</td>\n",
       "      <td>0.000000</td>\n",
       "      <td>0.0</td>\n",
       "    </tr>\n",
       "    <tr>\n",
       "      <th>85364900</th>\n",
       "      <td>0.004651</td>\n",
       "      <td>0.000000</td>\n",
       "      <td>0.006342</td>\n",
       "      <td>0.000000</td>\n",
       "      <td>0.002433</td>\n",
       "      <td>0.000000</td>\n",
       "      <td>0.978979</td>\n",
       "      <td>0.0</td>\n",
       "      <td>0.000000</td>\n",
       "      <td>0.000000</td>\n",
       "      <td>0.000000</td>\n",
       "      <td>0.0</td>\n",
       "    </tr>\n",
       "    <tr>\n",
       "      <th>85238090</th>\n",
       "      <td>0.000000</td>\n",
       "      <td>0.000000</td>\n",
       "      <td>0.002114</td>\n",
       "      <td>0.000000</td>\n",
       "      <td>0.000000</td>\n",
       "      <td>0.000000</td>\n",
       "      <td>0.000000</td>\n",
       "      <td>1.0</td>\n",
       "      <td>0.000000</td>\n",
       "      <td>0.000000</td>\n",
       "      <td>0.000000</td>\n",
       "      <td>0.0</td>\n",
       "    </tr>\n",
       "    <tr>\n",
       "      <th>87089900</th>\n",
       "      <td>0.013953</td>\n",
       "      <td>0.000000</td>\n",
       "      <td>0.002114</td>\n",
       "      <td>0.030043</td>\n",
       "      <td>0.004866</td>\n",
       "      <td>0.002618</td>\n",
       "      <td>0.000000</td>\n",
       "      <td>0.0</td>\n",
       "      <td>0.886957</td>\n",
       "      <td>0.000000</td>\n",
       "      <td>0.030651</td>\n",
       "      <td>0.0</td>\n",
       "    </tr>\n",
       "    <tr>\n",
       "      <th>33041000</th>\n",
       "      <td>0.000000</td>\n",
       "      <td>0.000000</td>\n",
       "      <td>0.000000</td>\n",
       "      <td>0.000000</td>\n",
       "      <td>0.000000</td>\n",
       "      <td>0.000000</td>\n",
       "      <td>0.000000</td>\n",
       "      <td>0.0</td>\n",
       "      <td>0.000000</td>\n",
       "      <td>0.996633</td>\n",
       "      <td>0.000000</td>\n",
       "      <td>0.0</td>\n",
       "    </tr>\n",
       "    <tr>\n",
       "      <th>87082900</th>\n",
       "      <td>0.007752</td>\n",
       "      <td>0.000000</td>\n",
       "      <td>0.000000</td>\n",
       "      <td>0.008584</td>\n",
       "      <td>0.000000</td>\n",
       "      <td>0.000000</td>\n",
       "      <td>0.000000</td>\n",
       "      <td>0.0</td>\n",
       "      <td>0.060870</td>\n",
       "      <td>0.000000</td>\n",
       "      <td>0.942529</td>\n",
       "      <td>0.0</td>\n",
       "    </tr>\n",
       "    <tr>\n",
       "      <th>84713010</th>\n",
       "      <td>0.003101</td>\n",
       "      <td>0.000000</td>\n",
       "      <td>0.000000</td>\n",
       "      <td>0.000000</td>\n",
       "      <td>0.000000</td>\n",
       "      <td>0.002618</td>\n",
       "      <td>0.000000</td>\n",
       "      <td>0.0</td>\n",
       "      <td>0.000000</td>\n",
       "      <td>0.000000</td>\n",
       "      <td>0.000000</td>\n",
       "      <td>1.0</td>\n",
       "    </tr>\n",
       "  </tbody>\n",
       "</table>\n",
       "</div>"
      ],
      "text/plain": [
       "          85389000  85177090  85369090  39269099  73181500  85366990  \\\n",
       "85389000  0.902326  0.003922  0.016913  0.032189  0.000000  0.005236   \n",
       "85177090  0.010853  0.976471  0.000000  0.017167  0.000000  0.000000   \n",
       "85369090  0.020155  0.005882  0.930233  0.010730  0.000000  0.060209   \n",
       "39269099  0.021705  0.011765  0.004228  0.869099  0.012165  0.002618   \n",
       "73181500  0.003101  0.001961  0.000000  0.027897  0.978102  0.000000   \n",
       "85366990  0.012403  0.000000  0.038055  0.004292  0.002433  0.926702   \n",
       "85364900  0.004651  0.000000  0.006342  0.000000  0.002433  0.000000   \n",
       "85238090  0.000000  0.000000  0.002114  0.000000  0.000000  0.000000   \n",
       "87089900  0.013953  0.000000  0.002114  0.030043  0.004866  0.002618   \n",
       "33041000  0.000000  0.000000  0.000000  0.000000  0.000000  0.000000   \n",
       "87082900  0.007752  0.000000  0.000000  0.008584  0.000000  0.000000   \n",
       "84713010  0.003101  0.000000  0.000000  0.000000  0.000000  0.002618   \n",
       "\n",
       "          85364900  85238090  87089900  33041000  87082900  84713010  \n",
       "85389000  0.000000       0.0  0.002899  0.000000  0.000000       0.0  \n",
       "85177090  0.000000       0.0  0.002899  0.000000  0.000000       0.0  \n",
       "85369090  0.018018       0.0  0.008696  0.000000  0.000000       0.0  \n",
       "39269099  0.000000       0.0  0.020290  0.003367  0.026820       0.0  \n",
       "73181500  0.000000       0.0  0.017391  0.000000  0.000000       0.0  \n",
       "85366990  0.003003       0.0  0.000000  0.000000  0.000000       0.0  \n",
       "85364900  0.978979       0.0  0.000000  0.000000  0.000000       0.0  \n",
       "85238090  0.000000       1.0  0.000000  0.000000  0.000000       0.0  \n",
       "87089900  0.000000       0.0  0.886957  0.000000  0.030651       0.0  \n",
       "33041000  0.000000       0.0  0.000000  0.996633  0.000000       0.0  \n",
       "87082900  0.000000       0.0  0.060870  0.000000  0.942529       0.0  \n",
       "84713010  0.000000       0.0  0.000000  0.000000  0.000000       1.0  "
      ]
     },
     "execution_count": 20,
     "metadata": {},
     "output_type": "execute_result"
    }
   ],
   "source": [
    "# looking at into the percentag eof each class using cm\n",
    "df_cm_percentage = df_cm.copy()\n",
    "for i in df_cm_percentage:\n",
    "  df_cm_percentage[i]/=df_cm_percentage[i].sum()\n",
    "\n",
    "df_cm_percentage"
   ]
  },
  {
   "cell_type": "code",
   "execution_count": 21,
   "id": "86ae28d8",
   "metadata": {},
   "outputs": [
    {
     "data": {
      "text/html": [
       "<div>\n",
       "<style scoped>\n",
       "    .dataframe tbody tr th:only-of-type {\n",
       "        vertical-align: middle;\n",
       "    }\n",
       "\n",
       "    .dataframe tbody tr th {\n",
       "        vertical-align: top;\n",
       "    }\n",
       "\n",
       "    .dataframe thead th {\n",
       "        text-align: right;\n",
       "    }\n",
       "</style>\n",
       "<table border=\"1\" class=\"dataframe\">\n",
       "  <thead>\n",
       "    <tr style=\"text-align: right;\">\n",
       "      <th></th>\n",
       "      <th>85389000</th>\n",
       "      <th>85177090</th>\n",
       "      <th>85369090</th>\n",
       "      <th>39269099</th>\n",
       "      <th>73181500</th>\n",
       "      <th>85366990</th>\n",
       "      <th>85364900</th>\n",
       "      <th>85238090</th>\n",
       "      <th>87089900</th>\n",
       "      <th>33041000</th>\n",
       "      <th>87082900</th>\n",
       "      <th>84713010</th>\n",
       "    </tr>\n",
       "  </thead>\n",
       "  <tbody>\n",
       "    <tr>\n",
       "      <th>85389000</th>\n",
       "      <td>0.902326</td>\n",
       "      <td>0.003922</td>\n",
       "      <td>0.016913</td>\n",
       "      <td>0.032189</td>\n",
       "      <td>0.000000</td>\n",
       "      <td>0.005236</td>\n",
       "      <td>0.000000</td>\n",
       "      <td>0.0</td>\n",
       "      <td>0.002899</td>\n",
       "      <td>0.000000</td>\n",
       "      <td>0.000000</td>\n",
       "      <td>0.0</td>\n",
       "    </tr>\n",
       "    <tr>\n",
       "      <th>85177090</th>\n",
       "      <td>0.010853</td>\n",
       "      <td>0.976471</td>\n",
       "      <td>0.000000</td>\n",
       "      <td>0.017167</td>\n",
       "      <td>0.000000</td>\n",
       "      <td>0.000000</td>\n",
       "      <td>0.000000</td>\n",
       "      <td>0.0</td>\n",
       "      <td>0.002899</td>\n",
       "      <td>0.000000</td>\n",
       "      <td>0.000000</td>\n",
       "      <td>0.0</td>\n",
       "    </tr>\n",
       "    <tr>\n",
       "      <th>85369090</th>\n",
       "      <td>0.020155</td>\n",
       "      <td>0.005882</td>\n",
       "      <td>0.930233</td>\n",
       "      <td>0.010730</td>\n",
       "      <td>0.000000</td>\n",
       "      <td>0.060209</td>\n",
       "      <td>0.018018</td>\n",
       "      <td>0.0</td>\n",
       "      <td>0.008696</td>\n",
       "      <td>0.000000</td>\n",
       "      <td>0.000000</td>\n",
       "      <td>0.0</td>\n",
       "    </tr>\n",
       "    <tr>\n",
       "      <th>39269099</th>\n",
       "      <td>0.021705</td>\n",
       "      <td>0.011765</td>\n",
       "      <td>0.004228</td>\n",
       "      <td>0.869099</td>\n",
       "      <td>0.012165</td>\n",
       "      <td>0.002618</td>\n",
       "      <td>0.000000</td>\n",
       "      <td>0.0</td>\n",
       "      <td>0.020290</td>\n",
       "      <td>0.003367</td>\n",
       "      <td>0.026820</td>\n",
       "      <td>0.0</td>\n",
       "    </tr>\n",
       "    <tr>\n",
       "      <th>73181500</th>\n",
       "      <td>0.003101</td>\n",
       "      <td>0.001961</td>\n",
       "      <td>0.000000</td>\n",
       "      <td>0.027897</td>\n",
       "      <td>0.978102</td>\n",
       "      <td>0.000000</td>\n",
       "      <td>0.000000</td>\n",
       "      <td>0.0</td>\n",
       "      <td>0.017391</td>\n",
       "      <td>0.000000</td>\n",
       "      <td>0.000000</td>\n",
       "      <td>0.0</td>\n",
       "    </tr>\n",
       "    <tr>\n",
       "      <th>85366990</th>\n",
       "      <td>0.012403</td>\n",
       "      <td>0.000000</td>\n",
       "      <td>0.038055</td>\n",
       "      <td>0.004292</td>\n",
       "      <td>0.002433</td>\n",
       "      <td>0.926702</td>\n",
       "      <td>0.003003</td>\n",
       "      <td>0.0</td>\n",
       "      <td>0.000000</td>\n",
       "      <td>0.000000</td>\n",
       "      <td>0.000000</td>\n",
       "      <td>0.0</td>\n",
       "    </tr>\n",
       "    <tr>\n",
       "      <th>85364900</th>\n",
       "      <td>0.004651</td>\n",
       "      <td>0.000000</td>\n",
       "      <td>0.006342</td>\n",
       "      <td>0.000000</td>\n",
       "      <td>0.002433</td>\n",
       "      <td>0.000000</td>\n",
       "      <td>0.978979</td>\n",
       "      <td>0.0</td>\n",
       "      <td>0.000000</td>\n",
       "      <td>0.000000</td>\n",
       "      <td>0.000000</td>\n",
       "      <td>0.0</td>\n",
       "    </tr>\n",
       "    <tr>\n",
       "      <th>85238090</th>\n",
       "      <td>0.000000</td>\n",
       "      <td>0.000000</td>\n",
       "      <td>0.002114</td>\n",
       "      <td>0.000000</td>\n",
       "      <td>0.000000</td>\n",
       "      <td>0.000000</td>\n",
       "      <td>0.000000</td>\n",
       "      <td>1.0</td>\n",
       "      <td>0.000000</td>\n",
       "      <td>0.000000</td>\n",
       "      <td>0.000000</td>\n",
       "      <td>0.0</td>\n",
       "    </tr>\n",
       "    <tr>\n",
       "      <th>87089900</th>\n",
       "      <td>0.013953</td>\n",
       "      <td>0.000000</td>\n",
       "      <td>0.002114</td>\n",
       "      <td>0.030043</td>\n",
       "      <td>0.004866</td>\n",
       "      <td>0.002618</td>\n",
       "      <td>0.000000</td>\n",
       "      <td>0.0</td>\n",
       "      <td>0.886957</td>\n",
       "      <td>0.000000</td>\n",
       "      <td>0.030651</td>\n",
       "      <td>0.0</td>\n",
       "    </tr>\n",
       "    <tr>\n",
       "      <th>33041000</th>\n",
       "      <td>0.000000</td>\n",
       "      <td>0.000000</td>\n",
       "      <td>0.000000</td>\n",
       "      <td>0.000000</td>\n",
       "      <td>0.000000</td>\n",
       "      <td>0.000000</td>\n",
       "      <td>0.000000</td>\n",
       "      <td>0.0</td>\n",
       "      <td>0.000000</td>\n",
       "      <td>0.996633</td>\n",
       "      <td>0.000000</td>\n",
       "      <td>0.0</td>\n",
       "    </tr>\n",
       "    <tr>\n",
       "      <th>87082900</th>\n",
       "      <td>0.007752</td>\n",
       "      <td>0.000000</td>\n",
       "      <td>0.000000</td>\n",
       "      <td>0.008584</td>\n",
       "      <td>0.000000</td>\n",
       "      <td>0.000000</td>\n",
       "      <td>0.000000</td>\n",
       "      <td>0.0</td>\n",
       "      <td>0.060870</td>\n",
       "      <td>0.000000</td>\n",
       "      <td>0.942529</td>\n",
       "      <td>0.0</td>\n",
       "    </tr>\n",
       "    <tr>\n",
       "      <th>84713010</th>\n",
       "      <td>0.003101</td>\n",
       "      <td>0.000000</td>\n",
       "      <td>0.000000</td>\n",
       "      <td>0.000000</td>\n",
       "      <td>0.000000</td>\n",
       "      <td>0.002618</td>\n",
       "      <td>0.000000</td>\n",
       "      <td>0.0</td>\n",
       "      <td>0.000000</td>\n",
       "      <td>0.000000</td>\n",
       "      <td>0.000000</td>\n",
       "      <td>1.0</td>\n",
       "    </tr>\n",
       "  </tbody>\n",
       "</table>\n",
       "</div>"
      ],
      "text/plain": [
       "          85389000  85177090  85369090  39269099  73181500  85366990  \\\n",
       "85389000  0.902326  0.003922  0.016913  0.032189  0.000000  0.005236   \n",
       "85177090  0.010853  0.976471  0.000000  0.017167  0.000000  0.000000   \n",
       "85369090  0.020155  0.005882  0.930233  0.010730  0.000000  0.060209   \n",
       "39269099  0.021705  0.011765  0.004228  0.869099  0.012165  0.002618   \n",
       "73181500  0.003101  0.001961  0.000000  0.027897  0.978102  0.000000   \n",
       "85366990  0.012403  0.000000  0.038055  0.004292  0.002433  0.926702   \n",
       "85364900  0.004651  0.000000  0.006342  0.000000  0.002433  0.000000   \n",
       "85238090  0.000000  0.000000  0.002114  0.000000  0.000000  0.000000   \n",
       "87089900  0.013953  0.000000  0.002114  0.030043  0.004866  0.002618   \n",
       "33041000  0.000000  0.000000  0.000000  0.000000  0.000000  0.000000   \n",
       "87082900  0.007752  0.000000  0.000000  0.008584  0.000000  0.000000   \n",
       "84713010  0.003101  0.000000  0.000000  0.000000  0.000000  0.002618   \n",
       "\n",
       "          85364900  85238090  87089900  33041000  87082900  84713010  \n",
       "85389000  0.000000       0.0  0.002899  0.000000  0.000000       0.0  \n",
       "85177090  0.000000       0.0  0.002899  0.000000  0.000000       0.0  \n",
       "85369090  0.018018       0.0  0.008696  0.000000  0.000000       0.0  \n",
       "39269099  0.000000       0.0  0.020290  0.003367  0.026820       0.0  \n",
       "73181500  0.000000       0.0  0.017391  0.000000  0.000000       0.0  \n",
       "85366990  0.003003       0.0  0.000000  0.000000  0.000000       0.0  \n",
       "85364900  0.978979       0.0  0.000000  0.000000  0.000000       0.0  \n",
       "85238090  0.000000       1.0  0.000000  0.000000  0.000000       0.0  \n",
       "87089900  0.000000       0.0  0.886957  0.000000  0.030651       0.0  \n",
       "33041000  0.000000       0.0  0.000000  0.996633  0.000000       0.0  \n",
       "87082900  0.000000       0.0  0.060870  0.000000  0.942529       0.0  \n",
       "84713010  0.000000       0.0  0.000000  0.000000  0.000000       1.0  "
      ]
     },
     "execution_count": 21,
     "metadata": {},
     "output_type": "execute_result"
    }
   ],
   "source": [
    "# looking at into the percentag eof each class using cm\n",
    "df_cm_percentage = df_cm.copy()\n",
    "for i in df_cm_percentage:\n",
    "  df_cm_percentage[i]/=df_cm_percentage[i].sum()\n",
    "\n",
    "df_cm_percentage"
   ]
  },
  {
   "cell_type": "markdown",
   "id": "c8372bb1",
   "metadata": {},
   "source": [
    "# saving model"
   ]
  },
  {
   "cell_type": "code",
   "execution_count": 22,
   "id": "aaa7d432",
   "metadata": {},
   "outputs": [],
   "source": [
    "import pickle\n",
    "filename = 'finalized_model.save'\n",
    "pickle.dump(classifier, open(filename, 'wb'))"
   ]
  },
  {
   "cell_type": "code",
   "execution_count": 23,
   "id": "5f07ea82",
   "metadata": {},
   "outputs": [],
   "source": [
    "#  testi ng against new data [ test data set]"
   ]
  },
  {
   "cell_type": "code",
   "execution_count": null,
   "id": "3f78c227",
   "metadata": {},
   "outputs": [],
   "source": []
  },
  {
   "cell_type": "code",
   "execution_count": null,
   "id": "f5dd5bf4",
   "metadata": {},
   "outputs": [],
   "source": []
  },
  {
   "cell_type": "code",
   "execution_count": null,
   "id": "b569a67e",
   "metadata": {},
   "outputs": [],
   "source": []
  },
  {
   "cell_type": "markdown",
   "id": "96a93992",
   "metadata": {},
   "source": [
    "# loading test set"
   ]
  },
  {
   "cell_type": "code",
   "execution_count": 26,
   "id": "079c01f2",
   "metadata": {},
   "outputs": [],
   "source": [
    "# loading test data set\n",
    "\n",
    "test = pd.read_csv(\"/home/venkat/Downloads/test_set.csv\", encoding='latin-1')"
   ]
  },
  {
   "cell_type": "code",
   "execution_count": 27,
   "id": "277b747b",
   "metadata": {},
   "outputs": [
    {
     "data": {
      "text/plain": [
       "array(['lv tmd pd trip unit for nh parts of circuit breaker',\n",
       "       'module tm analog outputs analog output expansion module for plc tmaq',\n",
       "       ' command group t iii mechanismt p parts forcircuit breaker', ...,\n",
       "       'eguujnnincnnnuas xuup acj note book computer laptop with accessories',\n",
       "       'egubjnninnnnums wwup note book computer laptop with accessories',\n",
       "       'lqav hp ids uma iu  g bnbpchp laptophstnnicbis nor'], dtype=object)"
      ]
     },
     "execution_count": 27,
     "metadata": {},
     "output_type": "execute_result"
    }
   ],
   "source": [
    "test_x = test.text.values\n",
    "test_x"
   ]
  },
  {
   "cell_type": "code",
   "execution_count": 28,
   "id": "fe943cd3",
   "metadata": {},
   "outputs": [
    {
     "data": {
      "text/plain": [
       "numpy.ndarray"
      ]
     },
     "execution_count": 28,
     "metadata": {},
     "output_type": "execute_result"
    }
   ],
   "source": [
    "type(test_x)"
   ]
  },
  {
   "cell_type": "code",
   "execution_count": 29,
   "id": "b1ebe540",
   "metadata": {},
   "outputs": [
    {
     "data": {
      "text/plain": [
       "(5894, 12397)"
      ]
     },
     "execution_count": 29,
     "metadata": {},
     "output_type": "execute_result"
    }
   ],
   "source": [
    "# creating vectorizer and transofrming our train and test data\n",
    "#vectorizer = CountVectorizer()\n",
    "#vectorizer.fit(test_x)\n",
    "\n",
    "test_fn = vectorizer.transform(test_x)\n",
    "#test = vectorizer.transform(test)\n",
    "test_fn.shape"
   ]
  },
  {
   "cell_type": "code",
   "execution_count": 30,
   "id": "bffbacd0",
   "metadata": {},
   "outputs": [
    {
     "data": {
      "text/plain": [
       "<5894x12397 sparse matrix of type '<class 'numpy.int64'>'\n",
       "\twith 42640 stored elements in Compressed Sparse Row format>"
      ]
     },
     "execution_count": 30,
     "metadata": {},
     "output_type": "execute_result"
    }
   ],
   "source": [
    "test_fn"
   ]
  },
  {
   "cell_type": "code",
   "execution_count": 31,
   "id": "95e0e113",
   "metadata": {},
   "outputs": [
    {
     "data": {
      "text/plain": [
       "array([85389000, 85389000, 85389000, ..., 84713010, 84713010, 84713010])"
      ]
     },
     "execution_count": 31,
     "metadata": {},
     "output_type": "execute_result"
    }
   ],
   "source": [
    "y_pred = classifier.predict(test_fn)\n",
    "y_pred"
   ]
  },
  {
   "cell_type": "code",
   "execution_count": 32,
   "id": "72fffa05",
   "metadata": {},
   "outputs": [
    {
     "data": {
      "text/plain": [
       "numpy.ndarray"
      ]
     },
     "execution_count": 32,
     "metadata": {},
     "output_type": "execute_result"
    }
   ],
   "source": [
    "type(y_pred)"
   ]
  },
  {
   "cell_type": "code",
   "execution_count": 33,
   "id": "690416a4",
   "metadata": {},
   "outputs": [
    {
     "data": {
      "text/plain": [
       "pandas.core.frame.DataFrame"
      ]
     },
     "execution_count": 33,
     "metadata": {},
     "output_type": "execute_result"
    }
   ],
   "source": [
    "type(test)"
   ]
  },
  {
   "cell_type": "code",
   "execution_count": 34,
   "id": "6dc0b6c8",
   "metadata": {},
   "outputs": [],
   "source": [
    "test['predictions']=pd.DataFrame(y_pred, columns=['predictions'])"
   ]
  },
  {
   "cell_type": "code",
   "execution_count": 35,
   "id": "8e971e99",
   "metadata": {},
   "outputs": [
    {
     "data": {
      "text/html": [
       "<div>\n",
       "<style scoped>\n",
       "    .dataframe tbody tr th:only-of-type {\n",
       "        vertical-align: middle;\n",
       "    }\n",
       "\n",
       "    .dataframe tbody tr th {\n",
       "        vertical-align: top;\n",
       "    }\n",
       "\n",
       "    .dataframe thead th {\n",
       "        text-align: right;\n",
       "    }\n",
       "</style>\n",
       "<table border=\"1\" class=\"dataframe\">\n",
       "  <thead>\n",
       "    <tr style=\"text-align: right;\">\n",
       "      <th></th>\n",
       "      <th>text</th>\n",
       "      <th>predictions</th>\n",
       "    </tr>\n",
       "  </thead>\n",
       "  <tbody>\n",
       "    <tr>\n",
       "      <th>0</th>\n",
       "      <td>lv tmd pd trip unit for nh parts of circuit br...</td>\n",
       "      <td>85389000</td>\n",
       "    </tr>\n",
       "    <tr>\n",
       "      <th>1</th>\n",
       "      <td>module tm analog outputs analog output expansi...</td>\n",
       "      <td>85389000</td>\n",
       "    </tr>\n",
       "    <tr>\n",
       "      <th>2</th>\n",
       "      <td>command group t iii mechanismt p parts forcir...</td>\n",
       "      <td>85389000</td>\n",
       "    </tr>\n",
       "    <tr>\n",
       "      <th>3</th>\n",
       "      <td>parts of relayelectrical contact  issu e f xxup</td>\n",
       "      <td>85389000</td>\n",
       "    </tr>\n",
       "    <tr>\n",
       "      <th>4</th>\n",
       "      <td>parts for programmable logic controllers  dm  ...</td>\n",
       "      <td>85389000</td>\n",
       "    </tr>\n",
       "    <tr>\n",
       "      <th>...</th>\n",
       "      <td>...</td>\n",
       "      <td>...</td>\n",
       "    </tr>\n",
       "    <tr>\n",
       "      <th>5889</th>\n",
       "      <td>gdf latitude  portable computernotebookassyba...</td>\n",
       "      <td>84713010</td>\n",
       "    </tr>\n",
       "    <tr>\n",
       "      <th>5890</th>\n",
       "      <td>cfjx precision  portable computernotebook ass...</td>\n",
       "      <td>84713010</td>\n",
       "    </tr>\n",
       "    <tr>\n",
       "      <th>5891</th>\n",
       "      <td>eguujnnincnnnuas xuup acj note book computer l...</td>\n",
       "      <td>84713010</td>\n",
       "    </tr>\n",
       "    <tr>\n",
       "      <th>5892</th>\n",
       "      <td>egubjnninnnnums wwup note book computer laptop...</td>\n",
       "      <td>84713010</td>\n",
       "    </tr>\n",
       "    <tr>\n",
       "      <th>5893</th>\n",
       "      <td>lqav hp ids uma iu  g bnbpchp laptophstnnicbis...</td>\n",
       "      <td>84713010</td>\n",
       "    </tr>\n",
       "  </tbody>\n",
       "</table>\n",
       "<p>5894 rows × 2 columns</p>\n",
       "</div>"
      ],
      "text/plain": [
       "                                                   text  predictions\n",
       "0     lv tmd pd trip unit for nh parts of circuit br...     85389000\n",
       "1     module tm analog outputs analog output expansi...     85389000\n",
       "2      command group t iii mechanismt p parts forcir...     85389000\n",
       "3       parts of relayelectrical contact  issu e f xxup     85389000\n",
       "4     parts for programmable logic controllers  dm  ...     85389000\n",
       "...                                                 ...          ...\n",
       "5889   gdf latitude  portable computernotebookassyba...     84713010\n",
       "5890   cfjx precision  portable computernotebook ass...     84713010\n",
       "5891  eguujnnincnnnuas xuup acj note book computer l...     84713010\n",
       "5892  egubjnninnnnums wwup note book computer laptop...     84713010\n",
       "5893  lqav hp ids uma iu  g bnbpchp laptophstnnicbis...     84713010\n",
       "\n",
       "[5894 rows x 2 columns]"
      ]
     },
     "execution_count": 35,
     "metadata": {},
     "output_type": "execute_result"
    }
   ],
   "source": [
    "test"
   ]
  },
  {
   "cell_type": "code",
   "execution_count": 36,
   "id": "9b8af452",
   "metadata": {},
   "outputs": [],
   "source": [
    "test.to_csv(\"Predictions.csv\")"
   ]
  },
  {
   "cell_type": "code",
   "execution_count": 37,
   "id": "8d454773",
   "metadata": {},
   "outputs": [
    {
     "data": {
      "text/plain": [
       "'/home/venkat'"
      ]
     },
     "execution_count": 37,
     "metadata": {},
     "output_type": "execute_result"
    }
   ],
   "source": [
    "pwd"
   ]
  },
  {
   "cell_type": "code",
   "execution_count": null,
   "id": "7ce2fd97",
   "metadata": {},
   "outputs": [],
   "source": []
  },
  {
   "cell_type": "code",
   "execution_count": null,
   "id": "817df0c6",
   "metadata": {},
   "outputs": [],
   "source": []
  },
  {
   "cell_type": "code",
   "execution_count": 38,
   "id": "643f88b2",
   "metadata": {},
   "outputs": [
    {
     "data": {
      "text/plain": [
       "array([85389000, 85389000, 85389000, ..., 84713010, 84713010, 84713010])"
      ]
     },
     "execution_count": 38,
     "metadata": {},
     "output_type": "execute_result"
    }
   ],
   "source": [
    "# load the model from disk\n",
    "loaded_model = pickle.load(open(filename, 'rb'))\n",
    "result = loaded_model.predict(test_fn)\n",
    "result"
   ]
  },
  {
   "cell_type": "code",
   "execution_count": null,
   "id": "a483ec1e",
   "metadata": {},
   "outputs": [],
   "source": []
  }
 ],
 "metadata": {
  "kernelspec": {
   "display_name": "Python 3 (ipykernel)",
   "language": "python",
   "name": "python3"
  },
  "language_info": {
   "codemirror_mode": {
    "name": "ipython",
    "version": 3
   },
   "file_extension": ".py",
   "mimetype": "text/x-python",
   "name": "python",
   "nbconvert_exporter": "python",
   "pygments_lexer": "ipython3",
   "version": "3.8.8"
  }
 },
 "nbformat": 4,
 "nbformat_minor": 5
}
